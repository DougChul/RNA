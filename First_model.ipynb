{
 "cells": [
  {
   "cell_type": "markdown",
   "metadata": {},
   "source": [
    "## Import"
   ]
  },
  {
   "cell_type": "code",
   "execution_count": 1,
   "metadata": {},
   "outputs": [],
   "source": [
    "import os\n",
    "import sys\n",
    "import pickle\n",
    "import random\n",
    "from tqdm import tqdm\n",
    "import torch\n",
    "import torch.nn as nn\n",
    "import numpy as np\n",
    "import pandas as pd\n",
    "import math\n"
   ]
  },
  {
   "cell_type": "code",
   "execution_count": 2,
   "metadata": {},
   "outputs": [
    {
     "name": "stdout",
     "output_type": "stream",
     "text": [
      "2.6.0+cu118\n",
      "2.2.3\n"
     ]
    }
   ],
   "source": [
    "print(torch.__version__)\n",
    "print(pd.__version__)"
   ]
  },
  {
   "cell_type": "markdown",
   "metadata": {},
   "source": [
    "## Config"
   ]
  },
  {
   "cell_type": "code",
   "execution_count": 93,
   "metadata": {},
   "outputs": [],
   "source": [
    "config = {\n",
    "    \"seed\": 0,\n",
    "    \"cutoff_date\": \"2020-01-01\",\n",
    "    \"test_cutoff_date\": \"2022-05-01\",\n",
    "    \"max_len\": 384,  ##\n",
    "    \"batch_size\": 1,\n",
    "    \"learning_rate\": 1e-4,\n",
    "    \"weight_decay\": 0.0,\n",
    "    \"mixed_precision\": \"bf16\",\n",
    "    \"model_config_path\": \"../working/configs/pairwise.yaml\",  # Adjust path as needed\n",
    "    \"epochs\": 10,  ##\n",
    "    \"loss_power_scale\": 1.0,\n",
    "    \"max_cycles\": 1,\n",
    "    \"grad_clip\": 0.1,\n",
    "    \"gradient_accumulation_steps\": 1,\n",
    "    \"d_clamp\": 30,\n",
    "    \"max_len_filter\": 9999999,\n",
    "    \"min_len_filter\": 10,\n",
    "    \"structural_violation_epoch\": 50,\n",
    "    \"balance_weight\": False,\n",
    "    \"n_tokens\": 4,\n",
    "    \"d_model\": 256,  ##\n",
    "    \"n_heads\": 8,\n",
    "    \"dropout\": 0.1,\n",
    "    \"d_ff\": 1024, ##\n",
    "    \"norm_ratio\": 0.25, ##\n",
    "    \"n_layers\": 20 ##\n",
    "}"
   ]
  },
  {
   "cell_type": "markdown",
   "metadata": {},
   "source": [
    "## Set Sample Data To make Model"
   ]
  },
  {
   "cell_type": "code",
   "execution_count": 4,
   "metadata": {},
   "outputs": [
    {
     "data": {
      "text/plain": [
       "'c:\\\\Users\\\\solba\\\\Desktop\\\\25_1_Capstone1\\\\WuSubSol'"
      ]
     },
     "execution_count": 4,
     "metadata": {},
     "output_type": "execute_result"
    }
   ],
   "source": [
    "os.getcwd()"
   ]
  },
  {
   "cell_type": "code",
   "execution_count": 5,
   "metadata": {},
   "outputs": [
    {
     "name": "stdout",
     "output_type": "stream",
     "text": [
      "          ID resname  resid    x_1    y_1     z_1    x_2    y_2     z_2  \\\n",
      "0   124D_B_9       C      9 -0.471 -6.788  18.299 -0.471 -6.788  18.299   \n",
      "1  124D_B_10       A     10 -5.581 -5.427  16.282 -5.581 -5.427  16.282   \n",
      "2  124D_B_11       U     11 -7.964 -1.483  13.892 -7.964 -1.483  13.892   \n",
      "3  124D_B_12       G     12 -8.050  3.242  11.526 -8.050  3.242  11.526   \n",
      "4  124D_B_13       U     13 -5.350  7.000   8.973 -5.350  7.000   8.973   \n",
      "\n",
      "     x_3    y_3     z_3    x_4    y_4     z_4    x_5    y_5     z_5  \n",
      "0 -0.471 -6.788  18.299 -0.471 -6.788  18.299 -0.471 -6.788  18.299  \n",
      "1 -5.581 -5.427  16.282 -5.581 -5.427  16.282 -5.581 -5.427  16.282  \n",
      "2 -7.964 -1.483  13.892 -7.964 -1.483  13.892 -7.964 -1.483  13.892  \n",
      "3 -8.050  3.242  11.526 -8.050  3.242  11.526 -8.050  3.242  11.526  \n",
      "4 -5.350  7.000   8.973 -5.350  7.000   8.973 -5.350  7.000   8.973  \n",
      "  target_id               sequence temporal_cutoff  description  all_sequences\n",
      "0    124D_B               CAUGUGAC      1993-05-07          NaN            NaN\n",
      "1    176D_B                 GAGUUC      1994-05-17          NaN            NaN\n",
      "2    17RA_A  GGCGUAAGGAUUACCUAUGCC      1998-08-04          NaN            NaN\n",
      "3    1A1T_B   GGACUAGCGGAGGCUAGUCC      1997-12-15          NaN            NaN\n",
      "4    1A3M_A         GGCGUCACACCUUC      1998-01-22          NaN            NaN\n"
     ]
    }
   ],
   "source": [
    "folder_path = '../pdb_pipeline'\n",
    "\n",
    "train_labels = pd.read_csv(os.path.join(folder_path, 'pdb_labels_5models.csv'))\n",
    "\n",
    "train_sequences = pd.read_csv(os.path.join(folder_path, 'pdb_sequences_5models.csv'))\n",
    "\n",
    "print(train_labels.head())\n",
    "\n",
    "print(train_sequences.head())\n"
   ]
  },
  {
   "cell_type": "code",
   "execution_count": 6,
   "metadata": {},
   "outputs": [
    {
     "data": {
      "text/plain": [
       "0         124D_B\n",
       "1         124D_B\n",
       "2         124D_B\n",
       "3         124D_B\n",
       "4         124D_B\n",
       "           ...  \n",
       "250737    9MX5_C\n",
       "250738    9MX5_C\n",
       "250739    9MX5_C\n",
       "250740    9MX5_C\n",
       "250741    9MX5_C\n",
       "Name: pdb_id, Length: 250742, dtype: object"
      ]
     },
     "execution_count": 6,
     "metadata": {},
     "output_type": "execute_result"
    }
   ],
   "source": [
    "train_labels[\"pdb_id\"] = train_labels[\"ID\"].apply(lambda x: x.split(\"_\")[0]+'_'+x.split(\"_\")[1])\n",
    "train_labels[\"pdb_id\"]"
   ]
  },
  {
   "cell_type": "code",
   "execution_count": 7,
   "metadata": {},
   "outputs": [
    {
     "name": "stderr",
     "output_type": "stream",
     "text": [
      "100%|██████████| 3806/3806 [00:40<00:00, 94.02it/s] \n"
     ]
    }
   ],
   "source": [
    "all_xyz=[]\n",
    "\n",
    "for pdb_id in tqdm(train_sequences['target_id']):\n",
    "    df = train_labels[train_labels[\"pdb_id\"]==pdb_id]\n",
    "    #break\n",
    "    xyz=df[['x_1','y_1','z_1','x_2','y_2','z_2','x_3','y_3','z_3','x_4','y_4','z_4','x_5','y_5','z_5',]].to_numpy().astype('float32')\n",
    "    xyz[xyz<-1e17]=float('Nan');\n",
    "    all_xyz.append(xyz)\n",
    "\n",
    "# all_xyz[13]"
   ]
  },
  {
   "cell_type": "markdown",
   "metadata": {},
   "source": [
    "### filter data"
   ]
  },
  {
   "cell_type": "code",
   "execution_count": 8,
   "metadata": {},
   "outputs": [
    {
     "name": "stdout",
     "output_type": "stream",
     "text": [
      "Longest sequence in train: 2900\n",
      "remain sequences: 2533\n"
     ]
    }
   ],
   "source": [
    "# filter the data\n",
    "# Filter and process data\n",
    "filter_nan = []\n",
    "max_len = 0\n",
    "filter_ratio = 0 # All data are valid\n",
    "for xyz in all_xyz:\n",
    "    if len(xyz) > max_len:\n",
    "        max_len = len(xyz)\n",
    "\n",
    "    filter_nan.append((np.isnan(xyz).mean() <= filter_ratio) & \\\n",
    "                      (len(xyz)<config['max_len_filter']) & \\\n",
    "                      (len(xyz)>config['min_len_filter']))\n",
    "\n",
    "\n",
    "print(f\"Longest sequence in train: {max_len}\")\n",
    "\n",
    "filter_nan = np.array(filter_nan)\n",
    "non_nan_indices = np.arange(len(filter_nan))[filter_nan]\n",
    "print('remain sequences:', len(non_nan_indices))\n",
    "train_sequences = train_sequences.loc[non_nan_indices].reset_index(drop=True)\n",
    "non_nan_xyz=[all_xyz[i] for i in non_nan_indices]"
   ]
  },
  {
   "cell_type": "code",
   "execution_count": 9,
   "metadata": {},
   "outputs": [
    {
     "name": "stdout",
     "output_type": "stream",
     "text": [
      "1A1T_B\n",
      "GGACUAGCGGAGGCUAGUCC\n",
      "1997-12-15\n",
      "nan\n",
      "nan\n"
     ]
    }
   ],
   "source": [
    "#pack data into a dictionary\n",
    "\n",
    "data={\n",
    "      \"pdb_id\":train_sequences['target_id'].to_list(),\n",
    "      \"sequence\":train_sequences['sequence'].to_list(),\n",
    "      \"temporal_cutoff\": train_sequences['temporal_cutoff'].to_list(),\n",
    "      \"description\": train_sequences['description'].to_list(),\n",
    "      \"all_sequences\": train_sequences['all_sequences'].to_list(),\n",
    "      \"xyz\": non_nan_xyz\n",
    "}\n",
    "print(data['pdb_id'][1])\n",
    "print(data['sequence'][1])\n",
    "print(data['temporal_cutoff'][1])\n",
    "print(data['description'][1])\n",
    "print(data['all_sequences'][1])\n",
    "# print(data['xyz'][1])"
   ]
  },
  {
   "cell_type": "markdown",
   "metadata": {},
   "source": [
    "### Split Train / Validation set"
   ]
  },
  {
   "cell_type": "code",
   "execution_count": 10,
   "metadata": {},
   "outputs": [],
   "source": [
    "# Split data into train and test\n",
    "all_index = np.arange(len(data['sequence']))\n",
    "cutoff_date = pd.Timestamp(config['cutoff_date'])\n",
    "test_cutoff_date = pd.Timestamp(config['test_cutoff_date'])\n",
    "train_index = [i for i, d in enumerate(data['temporal_cutoff']) if pd.Timestamp(d) <= cutoff_date]\n",
    "test_index = [i for i, d in enumerate(data['temporal_cutoff']) if pd.Timestamp(d) > cutoff_date and pd.Timestamp(d) <= test_cutoff_date]"
   ]
  },
  {
   "cell_type": "markdown",
   "metadata": {},
   "source": [
    "### To Pytorch Dataset"
   ]
  },
  {
   "cell_type": "code",
   "execution_count": 11,
   "metadata": {},
   "outputs": [],
   "source": [
    "from torch.utils.data import Dataset, DataLoader\n",
    "from ast import literal_eval\n",
    "\n",
    "def get_ct(bp,s):\n",
    "    ct_matrix=np.zeros((len(s),len(s)))\n",
    "    for b in bp:\n",
    "        ct_matrix[b[0]-1,b[1]-1]=1\n",
    "    return ct_matrix\n",
    "\n",
    "class RNA3D_Dataset(Dataset):\n",
    "    def __init__(self,indices,data):\n",
    "        self.indices=indices\n",
    "        self.data=data\n",
    "        self.tokens={nt:i for i,nt in enumerate('ACGU')}\n",
    "        # self.tokens = {'A': 2, 'U':-2, 'G':3, 'C':-3}\n",
    "\n",
    "    def __len__(self):\n",
    "        return len(self.indices)\n",
    "\n",
    "    def __getitem__(self, idx):\n",
    "\n",
    "        idx=self.indices[idx]\n",
    "        sequence=[self.tokens[nt] for nt in (self.data['sequence'][idx])]\n",
    "        sequence=np.array(sequence)\n",
    "        sequence=torch.tensor(sequence)\n",
    "\n",
    "        #get C1' xyz\n",
    "        xyz=self.data['xyz'][idx]\n",
    "        xyz=torch.tensor(np.array(xyz))\n",
    "\n",
    "\n",
    "        if len(sequence)>config['max_len']:\n",
    "            crop_start=np.random.randint(len(sequence)-config['max_len'])\n",
    "            crop_end=crop_start+config['max_len']\n",
    "\n",
    "            sequence=sequence[crop_start:crop_end]\n",
    "            xyz=xyz[crop_start:crop_end]\n",
    "        #center at first atom if first atom does not exit go until it does\n",
    "        for i in range(len(xyz)):\n",
    "            if (~torch.isnan(xyz[i])).all():\n",
    "                break\n",
    "        xyz=xyz-xyz[i]\n",
    "\n",
    "        return {'pbd_id':self.data['pdb_id'][idx],\n",
    "            'sequence':sequence,\n",
    "                'xyz':xyz}"
   ]
  },
  {
   "cell_type": "code",
   "execution_count": 12,
   "metadata": {},
   "outputs": [],
   "source": [
    "train_dataset=RNA3D_Dataset(train_index,data)\n",
    "val_dataset=RNA3D_Dataset(test_index,data)"
   ]
  },
  {
   "cell_type": "code",
   "execution_count": 13,
   "metadata": {},
   "outputs": [
    {
     "name": "stdout",
     "output_type": "stream",
     "text": [
      "tensor([-11.5840,  -1.9270,  -0.0570, -10.9290,   2.5640,   2.3630, -11.3600,\n",
      "         -4.0740,  -0.0880, -10.9900,   2.7140,   1.7140, -10.7080,   4.4850,\n",
      "         -0.1930])\n"
     ]
    }
   ],
   "source": [
    "print(train_dataset[0]['xyz'][2])\n"
   ]
  },
  {
   "cell_type": "code",
   "execution_count": 14,
   "metadata": {},
   "outputs": [
    {
     "name": "stdout",
     "output_type": "stream",
     "text": [
      "tensor([-11.5840,  -1.9270,  -0.0570, -10.9290,   2.5640,   2.3630, -11.3600,\n",
      "         -4.0740,  -0.0880, -10.9900,   2.7140,   1.7140, -10.7080,   4.4850,\n",
      "         -0.1930])\n"
     ]
    }
   ],
   "source": [
    "train_loader=DataLoader(train_dataset,batch_size=1,shuffle=True)\n",
    "val_loader=DataLoader(val_dataset,batch_size=1,shuffle=False)\n",
    "\n",
    "print(train_dataset[0]['xyz'][2])\n"
   ]
  },
  {
   "cell_type": "markdown",
   "metadata": {},
   "source": [
    "## Model definition"
   ]
  },
  {
   "cell_type": "markdown",
   "metadata": {},
   "source": [
    "### Example with one data"
   ]
  },
  {
   "cell_type": "code",
   "execution_count": 37,
   "metadata": {},
   "outputs": [
    {
     "name": "stdout",
     "output_type": "stream",
     "text": [
      "tensor([2, 2, 0, 1, 3, 0, 2, 1, 2, 2, 0, 2, 2, 1, 3, 0, 2, 3, 1, 1]) 20\n",
      "1A1T_B\n"
     ]
    }
   ],
   "source": [
    "num_seq = 1\n",
    "\n",
    "src = train_dataset[num_seq]['sequence']\n",
    "tgt = train_dataset[num_seq]['xyz']\n",
    "\n",
    "print(src, len(src))\n",
    "print(train_dataset[num_seq]['pbd_id'])\n",
    "# print(tgt)"
   ]
  },
  {
   "cell_type": "markdown",
   "metadata": {},
   "source": [
    "### Check Pairwise"
   ]
  },
  {
   "cell_type": "code",
   "execution_count": 38,
   "metadata": {},
   "outputs": [
    {
     "name": "stdout",
     "output_type": "stream",
     "text": [
      "21\n",
      "GGCGUAAGGAUUACCUAUGCC\n",
      "<class 'torch.Tensor'>\n",
      "torch.Size([21, 21])\n"
     ]
    },
    {
     "data": {
      "image/png": "[encoded data removed]",
      "text/plain": [
       "<Figure size 500x400 with 2 Axes>"
      ]
     },
     "metadata": {},
     "output_type": "display_data"
    }
   ],
   "source": [
    "import RNA\n",
    "import numpy as np\n",
    "import matplotlib.pyplot as plt\n",
    "import seaborn as sns\n",
    "\n",
    "src = torch.tensor([2, 2, 1, 2, 3, 0, 0, 2, 2, 0, 3, 3, 0, 1, 1, 3, 0, 3, 2, 1, 1], dtype=torch.long)\n",
    "# AUGC를 0123으로 매핑\n",
    "nucleotide_map = {0: 'A', 1: 'C', 2: 'G', 3: 'U'}\n",
    "\n",
    "str_A = ''.join([nucleotide_map[x.item()] for x in src])\n",
    "\n",
    "print(len(str_A))\n",
    "print(str_A)\n",
    "\n",
    "md = RNA.md()\n",
    "\n",
    "fc = RNA.fold_compound(str_A, md)\n",
    "\n",
    "# predict Minmum Free Energy and corresponding secondary structure\n",
    "# (ss, mfe) = \n",
    "# print(fc.mfe())\n",
    "fc.pf()\n",
    "B = torch.tensor(fc.bpp())\n",
    "\n",
    "# B = torch.tensor(B)\n",
    "B = B[1:,1:]\n",
    "print(type(B))\n",
    "print(B.shape)\n",
    "B = B + B.T\n",
    "# B = np.array(B, dtype=np.bool())\n",
    "# print(B)\n",
    "\n",
    "plt.figure(figsize=(5,4))\n",
    "sns.heatmap(B, cmap='viridis', annot=False)  # annot=True로 설정하면 각 셀에 값 표시\n",
    "plt.title('Pairwise Contact Probability Matrix')\n",
    "plt.show()\n",
    "\n",
    "# def get_pairwise_features(src, seq_len, d_model):\n",
    "#     nucleotide_map = {0: 'A', 1: 'C', 2: 'G', 3: 'U'}\n",
    "\n",
    "#     # print(\"pairwise\",src)\n",
    "#     src = src.squeeze(0)\n",
    "#     str_seq = ''.join([nucleotide_map[x.item()] for x in src])\n",
    "#     # print(\"str_seq\",str_seq)\n",
    "    \n",
    "#     md = RNA.md()\n",
    "#     fc = RNA.fold_compound(str_seq, md)\n",
    "#     fc.pf() ##???\n",
    "\n",
    "#     pair_matrix = torch.tensor(fc.bpp(), dtype=torch.float32)\n",
    "#     # print(\"pair_matrix\",pair_matrix)\n",
    "#     pair_matrix = pair_matrix[1:,1:] # remove first row and column 0 index in bpp is always 0\n",
    "#     pair_matrix = pair_matrix + pair_matrix.T # symmetric matrix\n",
    "\n",
    "#     pair_matrix = pair_matrix.unsqueeze(0).unsqueeze(0)\n",
    "#     pair_matrix = F.interpolate(pair_matrix, size=(d_model, d_model), mode='bilinear', align_corners=False)\n",
    "#     # pair_matrix = F.interpolate(pair_matrix, size=(d_model, d_model), mode='nearest', align_corners=False)\n",
    "\n",
    "#     pair_matrix = pair_matrix.squeeze()\n",
    "#     # print(\"pair_matrix\",pair_matrix.shape)\n",
    "\n",
    "#     return pair_matrix"
   ]
  },
  {
   "cell_type": "markdown",
   "metadata": {},
   "source": [
    "### MSA Module"
   ]
  },
  {
   "cell_type": "code",
   "execution_count": 39,
   "metadata": {},
   "outputs": [],
   "source": [
    "class OuterProductMean(nn.Module):\n",
    "    def __init__(self, in_dim=256, dim_msa=32, pairwise_dim=64):\n",
    "        super(OuterProductMean, self).__init__()\n",
    "        self.proj_down1 = nn.Linear(in_dim, dim_msa)\n",
    "        self.proj_down2 = nn.Linear(dim_msa ** 2, pairwise_dim)\n",
    "\n",
    "    def forward(self,seq_rep, pair_rep=None):\n",
    "        seq_rep=self.proj_down1(seq_rep)\n",
    "        outer_product = torch.einsum('bid,bjc -> bijcd', seq_rep, seq_rep)\n",
    "        outer_product = rearrange(outer_product, 'b i j c d -> b i j (c d)')\n",
    "        outer_product = self.proj_down2(outer_product)\n",
    "\n",
    "        if pair_rep is not None:\n",
    "            outer_product=outer_product+pair_rep\n",
    "\n",
    "        return outer_product"
   ]
  },
  {
   "cell_type": "markdown",
   "metadata": {},
   "source": [
    "### Back Bone"
   ]
  },
  {
   "cell_type": "code",
   "execution_count": 94,
   "metadata": {},
   "outputs": [],
   "source": [
    "import RNA\n",
    "import torch.nn.functional as F\n",
    "from einops import rearrange, repeat, reduce\n",
    "\n",
    "\n",
    "def pos_encoder(seq_len, d_model):\n",
    "    result = torch.zeros(seq_len, d_model)\n",
    "\n",
    "    for pos in range(seq_len):\n",
    "        for i in range(d_model):\n",
    "            if i % 2 == 0:\n",
    "                result[pos][i] = np.sin(pos / (10000 ** (i / d_model)))\n",
    "            else:\n",
    "                result[pos][i] = np.cos(pos / (10000 ** ((i - 1) / d_model)))\n",
    "\n",
    "    return result\n",
    "\n",
    "class RelativePositionalEncoding(nn.Module):\n",
    "    def __init__(self, d_model, max_relative_position=32):\n",
    "        super().__init__()\n",
    "        self.max_relative_position = max_relative_position\n",
    "        # 상대적 위치 범위: [-max_relative_position, max_relative_position]\n",
    "        self.num_positions = 2 * max_relative_position + 1\n",
    "        self.relative_embedding = nn.Embedding(self.num_positions, d_model)\n",
    "        \n",
    "    def forward(self, seq_len):\n",
    "        # 모든 가능한 위치 쌍 간의 상대적 거리 계산\n",
    "        range_vec = torch.arange(seq_len)\n",
    "        distance_mat = range_vec[:, None] - range_vec[None, :]  # shape: [seq_len, seq_len]\n",
    "        \n",
    "        # 상대 거리를 [-max_relative_position, max_relative_position] 범위로 제한\n",
    "        distance_mat_clipped = torch.clamp(\n",
    "            distance_mat, -self.max_relative_position, self.max_relative_position)\n",
    "        \n",
    "        # 인덱스 변환: [-max_relative_position, max_relative_position] -> [0, 2*max_relative_position]\n",
    "        final_mat = distance_mat_clipped + self.max_relative_position\n",
    "        \n",
    "        # 상대적 위치에 대한 임베딩 조회\n",
    "        embeddings = self.relative_embedding(final_mat.to(torch.long))\n",
    "        \n",
    "        return embeddings  # shape: [seq_len, seq_len, d_model]\n",
    "\n",
    "class ConstrainedPositionalEncoding(nn.Module):\n",
    "    def __init__(self, d_model, max_relative_position=32, constrained_position=4):\n",
    "        super().__init__()\n",
    "        self.max_relative_position = max_relative_position\n",
    "        self.relative_embedding = nn.Embedding(2 * max_relative_position + 1, d_model)\n",
    "        self.constrained_position = constrained_position\n",
    "\n",
    "    def forward(self, seq_len):\n",
    "\n",
    "        return pos_encoding(seq_len, self.d_model)\n",
    "        \n",
    "\n",
    "class EmbedSequence(nn.Module):\n",
    "    def __init__(self, d_model, n_tokens = config['n_tokens']):\n",
    "        super().__init__()\n",
    "        self.d_model = d_model\n",
    "        self.embedding = nn.Embedding(n_tokens, d_model)\n",
    "        # self.pos_encoding = PosEncoding(seq_len, d_model)\n",
    "        \n",
    "    def forward(self, sequence):\n",
    "        seq_len = len(sequence.squeeze())\n",
    "        # print(seq_len)\n",
    "        pos_encoding = pos_encoder(seq_len, self.d_model)\n",
    "        sequence = sequence.long()\n",
    "        return self.embedding(sequence) + pos_encoding\n",
    "    \n",
    "\n",
    "class MultiheadAtt(nn.Module):\n",
    "    def __init__(self, d_model, n_heads=8, dropout=None):\n",
    "        super().__init__()\n",
    "        self.d_model = d_model\n",
    "        self.n_heads = n_heads\n",
    "        self.d_head = d_model // n_heads\n",
    "        self.dropout = nn.Dropout(dropout)\n",
    "\n",
    "        self.w_q = nn.Linear(d_model, n_heads * self.d_head)\n",
    "        self.w_k = nn.Linear(d_model, n_heads * self.d_head)\n",
    "        self.w_v = nn.Linear(d_model, n_heads * self.d_head)\n",
    "\n",
    "        # self.w_o = nn.Linear(n_heads * self.d_head, d_model)\n",
    "        \n",
    "    def forward(self, query, key, value):\n",
    "        # print('query.shape',query.shape)\n",
    "        batch_size, length, d_model = query.size()\n",
    "        \n",
    "        q = self.w_q(query)\n",
    "        k = self.w_k(key)\n",
    "        v = self.w_v(value)\n",
    "\n",
    "        q = q.view(batch_size, length, self.n_heads, self.d_head)\n",
    "        k = k.view(batch_size, length, self.n_heads, self.d_head)\n",
    "        v = v.view(batch_size, length, self.n_heads, self.d_head)\n",
    "\n",
    "        q = q.transpose(1, 2)\n",
    "        k = k.transpose(1, 2)\n",
    "        v = v.transpose(1, 2)\n",
    "\n",
    "        scores = torch.matmul(q, k.transpose(-2, -1)) / math.sqrt(self.d_head)  \n",
    "        output = torch.matmul(scores, v)\n",
    "        output = output.transpose(1, 2).contiguous().view(batch_size, length, -1)\n",
    "        \n",
    "        return output\n",
    "\n",
    "\n",
    "class FeedForward(nn.Module):\n",
    "    def __init__(self, d_model, d_ff, dropout=None):\n",
    "        super().__init__()\n",
    "\n",
    "        self.dropout = nn.Dropout(dropout)\n",
    "\n",
    "        self.w_1 = nn.Linear(d_model, d_ff)\n",
    "        self.w_2 = nn.Linear(d_ff, d_model)\n",
    "        self.activation = nn.ReLU()\n",
    "\n",
    "    def forward(self, x):\n",
    "        x = self.w_1(x)\n",
    "        x = self.activation(x)\n",
    "        if self.dropout is not None:\n",
    "            x = self.dropout(x)\n",
    "        x = self.w_2(x)\n",
    "\n",
    "        return x\n",
    "\n",
    "\n",
    "def residual_connection_one(x, sublayer):\n",
    "    return x + sublayer(x)\n",
    "\n",
    "def residual_connection_attention(x, sublayer):\n",
    "    return x + sublayer(x,x,x)\n",
    "\n",
    "class EncoderLayer(nn.Module):\n",
    "    def __init__(self, d_model, n_heads, dropout=0, norm_type='post_ln'):\n",
    "        super().__init__()\n",
    "        \n",
    "        self.d_ff = config['d_ff']\n",
    "        \n",
    "        if (norm_type == 'post_ln') or (norm_type == 'pre_ln'):\n",
    "            self.norm_type = norm_type\n",
    "        else:\n",
    "            raise ValueError(\"Invalid norm_type\")\n",
    "\n",
    "        self.norm_1 = nn.LayerNorm(d_model)\n",
    "        self.norm_2 = nn.LayerNorm(d_model)\n",
    "        \n",
    "        self.attention = MultiheadAtt(d_model, n_heads, dropout)\n",
    "        self.feedforward = FeedForward(d_model, self.d_ff, dropout)\n",
    "        self.activation = nn.ReLU()\n",
    "\n",
    "    def forward(self, src, pairwise_feature=None):\n",
    "        # src = residual_connection(src, self.encoder(src))\n",
    "        norm_type = self.norm_type\n",
    "\n",
    "        if norm_type == 'post_ln':\n",
    "            src = residual_connection_attention(src, self.attention)\n",
    "            src = self.norm_1(src)\n",
    "            src = self.activation(src)\n",
    "            src = residual_connection_one(src, self.feedforward)\n",
    "            src = self.norm_2(src)\n",
    "            src = self.activation(src)\n",
    "\n",
    "        elif norm_type == 'pre_ln':\n",
    "            src_temp = src\n",
    "            src = self.norm_1(src)\n",
    "            src = self.attention(src,src,src) + src_temp\n",
    "            src = self.activation(src)\n",
    "            src_temp = src\n",
    "            src = self.norm_2(src)\n",
    "            src = self.feedforward(src) + src_temp\n",
    "            src = self.activation(src)\n",
    "\n",
    "        return src\n",
    "\n",
    "\n",
    "class WuSubSol(nn.Module):\n",
    "    def __init__(self, config):\n",
    "        super(WuSubSol, self).__init__()\n",
    "        self.config = config\n",
    "        self.n_layers = config['n_layers']\n",
    "        self.d_model = config['d_model']\n",
    "\n",
    "        self.norm_ratio = config['norm_ratio']\n",
    "        if (self.n_layers * self.norm_ratio).is_integer():\n",
    "            self.n_post_ln = int(self.n_layers * self.norm_ratio)\n",
    "        else:\n",
    "            print(\"Invalid norm_ratio\")\n",
    "            exit()\n",
    "        \n",
    "        self.embedding = EmbedSequence(self.d_model)\n",
    "\n",
    "\n",
    "        self.encoder_layers = []\n",
    "        for i in range(self.n_post_ln):\n",
    "            self.encoder_layers.append(EncoderLayer(self.d_model, config['n_heads'], config['dropout'], 'post_ln'))\n",
    "        for i in range(self.n_layers - self.n_post_ln):\n",
    "            self.encoder_layers.append(EncoderLayer(self.d_model, config['n_heads'], config['dropout'], 'pre_ln'))\n",
    "\n",
    "        self.encoder_layers = nn.ModuleList(self.encoder_layers)\n",
    "\n",
    "        self.final_linear = nn.Linear(self.d_model, 15)\n",
    "\n",
    "        print(f\"{self.n_layers} layers of encoder constructed\")\n",
    "\n",
    "    def forward(self, src):\n",
    "        pairwise_feature = None\n",
    "\n",
    "        src = self.embedding(src) # L*d_model\n",
    "        # print('after embedding', src.shape)\n",
    "\n",
    "\n",
    "        for i,layer in enumerate(self.encoder_layers):\n",
    "            # print(\"before\",src.shape)\n",
    "            src = layer(src, pairwise_feature)\n",
    "            # print(\"after\",src.shape)\n",
    "\n",
    "        src = self.final_linear(src).squeeze()\n",
    "        \n",
    "        # print('final tensor-Shape : ', src.shape)\n",
    "\n",
    "        return src\n",
    "\n"
   ]
  },
  {
   "cell_type": "code",
   "execution_count": 95,
   "metadata": {},
   "outputs": [
    {
     "name": "stdout",
     "output_type": "stream",
     "text": [
      "20 layers of encoder constructed\n",
      "WuSubSol(\n",
      "  (embedding): EmbedSequence(\n",
      "    (embedding): Embedding(4, 256)\n",
      "  )\n",
      "  (encoder_layers): ModuleList(\n",
      "    (0-19): 20 x EncoderLayer(\n",
      "      (norm_1): LayerNorm((256,), eps=1e-05, elementwise_affine=True)\n",
      "      (norm_2): LayerNorm((256,), eps=1e-05, elementwise_affine=True)\n",
      "      (attention): MultiheadAtt(\n",
      "        (dropout): Dropout(p=0.1, inplace=False)\n",
      "        (w_q): Linear(in_features=256, out_features=256, bias=True)\n",
      "        (w_k): Linear(in_features=256, out_features=256, bias=True)\n",
      "        (w_v): Linear(in_features=256, out_features=256, bias=True)\n",
      "      )\n",
      "      (feedforward): FeedForward(\n",
      "        (dropout): Dropout(p=0.1, inplace=False)\n",
      "        (w_1): Linear(in_features=256, out_features=1024, bias=True)\n",
      "        (w_2): Linear(in_features=1024, out_features=256, bias=True)\n",
      "        (activation): ReLU()\n",
      "      )\n",
      "      (activation): ReLU()\n",
      "    )\n",
      "  )\n",
      "  (final_linear): Linear(in_features=256, out_features=15, bias=True)\n",
      ")\n"
     ]
    }
   ],
   "source": [
    "model = WuSubSol(config)\n",
    "print(model)\n"
   ]
  },
  {
   "cell_type": "code",
   "execution_count": 68,
   "metadata": {},
   "outputs": [
    {
     "name": "stdout",
     "output_type": "stream",
     "text": [
      "8 layers of encoder constructed\n"
     ]
    }
   ],
   "source": [
    "\n",
    "from torchviz import make_dot\n",
    "A = torch.tensor([2, 2, 1, 2, 3, 0, 0, 2, 2, 0, 3, 3, 0, 1, 1, 3, 0, 3, 2, 1, 1], dtype=torch.float32, requires_grad=True)\n",
    "A = A.unsqueeze(0) # batch dim 반영\n",
    "model = WuSubSol(config)\n",
    "# 모델에 맞는 더미 입력 데이터 생성\n",
    "\n",
    "y = model(A)\n",
    "# make_dot(y, params=dict(list(model.named_parameters()) + [('x', A)]))\n",
    "# make_dot(y.mean(), params=dict(list(model.named_parameters()) + [('x', A)]))\n"
   ]
  },
  {
   "cell_type": "markdown",
   "metadata": {},
   "source": [
    "## Training Loop"
   ]
  },
  {
   "cell_type": "markdown",
   "metadata": {},
   "source": [
    "### Define Loss Function"
   ]
  },
  {
   "cell_type": "code",
   "execution_count": 96,
   "metadata": {},
   "outputs": [],
   "source": [
    "def calculate_distance_matrix(X,Y,epsilon=1e-4):\n",
    "    return (torch.square(X[:,None]-Y[None,:])+epsilon).sum(-1).sqrt()\n",
    "\n",
    "def dRMAE(pred_x,\n",
    "          pred_y,\n",
    "          gt_x,\n",
    "          gt_y,\n",
    "          epsilon=1e-4,Z=10,d_clamp=None):\n",
    "    pred_dm=calculate_distance_matrix(pred_x,pred_y)\n",
    "    gt_dm=calculate_distance_matrix(gt_x,gt_y)\n",
    "\n",
    "    mask=~torch.isnan(gt_dm)\n",
    "    mask[torch.eye(mask.shape[0]).bool()]=False\n",
    "\n",
    "    rmsd=torch.abs(pred_dm[mask]-gt_dm[mask])\n",
    "\n",
    "    return rmsd.mean()/Z\n",
    "\n",
    "def align_svd_mae(input, target, Z=10):\n",
    "    \"\"\"\n",
    "    Aligns the input (Nx3) to target (Nx3) using SVD-based Procrustes alignment\n",
    "    and computes RMSD loss.\n",
    "\n",
    "    Args:\n",
    "        input (torch.Tensor): Nx3 tensor representing the input points.\n",
    "        target (torch.Tensor): Nx3 tensor representing the target points.\n",
    "\n",
    "    Returns:\n",
    "        aligned_input (torch.Tensor): Nx3 aligned input.\n",
    "        rmsd_loss (torch.Tensor): RMSD loss.\n",
    "    \"\"\"\n",
    "    # print('input-Shape', input.shape)\n",
    "    # print('output-Shape', target.shape)\n",
    "    # target = target[:, :3]\n",
    "    assert input.shape == target.shape, \"Input and target must have the same shape\"\n",
    "\n",
    "    #mask\n",
    "    mask=~torch.isnan(target.sum(-1))\n",
    "\n",
    "    input=input[mask]\n",
    "    target=target[mask]\n",
    "\n",
    "    # Compute centroids\n",
    "    centroid_input = input.mean(dim=0, keepdim=True)\n",
    "    centroid_target = target.mean(dim=0, keepdim=True)\n",
    "\n",
    "    # Center the points\n",
    "    input_centered = input - centroid_input.detach()\n",
    "    target_centered = target - centroid_target\n",
    "\n",
    "    # Compute covariance matrix\n",
    "    cov_matrix = input_centered.T @ target_centered\n",
    "\n",
    "    # SVD to find optimal rotation\n",
    "    U, S, Vt = torch.svd(cov_matrix)\n",
    "\n",
    "    # Compute rotation matrix\n",
    "    R = Vt @ U.T\n",
    "\n",
    "    # Ensure a proper rotation (det(R) = 1, no reflection)\n",
    "    if torch.det(R) < 0:\n",
    "        Vt[-1, :] *= -1\n",
    "        R = Vt @ U.T\n",
    "\n",
    "    # Rotate input\n",
    "    aligned_input = (input_centered @ R.T.detach()) + centroid_target.detach()\n",
    "\n",
    "    # # Compute RMSD loss\n",
    "    # rmsd_loss = torch.sqrt(((aligned_input - target) ** 2).mean())\n",
    "\n",
    "    # rmsd_loss = torch.sqrt(((aligned_input - target) ** 2).mean())\n",
    "\n",
    "    # return aligned_input, rmsd_loss\n",
    "    return torch.abs(aligned_input-target).mean()/Z\n",
    "\n",
    "def align_svd_rmsd(input, target):\n",
    "    \"\"\"\n",
    "    Aligns the input (Nx3) to target (Nx3) using SVD-based Procrustes alignment\n",
    "    and computes RMSD loss.\n",
    "\n",
    "    Args:\n",
    "        input (torch.Tensor): Nx3 tensor representing the input points.\n",
    "        target (torch.Tensor): Nx3 tensor representing the target points.\n",
    "\n",
    "    Returns:\n",
    "        aligned_input (torch.Tensor): Nx3 aligned input.\n",
    "        rmsd_loss (torch.Tensor): RMSD loss.\n",
    "    \"\"\"\n",
    "    # print('input-Shape', input.shape)\n",
    "    # print('output-Shape', target.shape)\n",
    "    # target = target[:,:3]\n",
    "    assert input.shape == target.shape, \"Input and target must have the same shape\"\n",
    "\n",
    "    #mask\n",
    "    mask=~torch.isnan(target.sum(-1))\n",
    "    \n",
    "    \n",
    "    input=input[mask]\n",
    "    target=target[mask]\n",
    "\n",
    "    # Compute centroids\n",
    "    centroid_input = input.mean(dim=0, keepdim=True)\n",
    "    centroid_target = target.mean(dim=0, keepdim=True)\n",
    "\n",
    "    # Center the points\n",
    "    input_centered = input - centroid_input.detach()\n",
    "    target_centered = target - centroid_target\n",
    "\n",
    "    # Compute covariance matrix\n",
    "    cov_matrix = input_centered.T @ target_centered\n",
    "\n",
    "    # SVD to find optimal rotation\n",
    "    U, S, Vt = torch.svd(cov_matrix)\n",
    "\n",
    "    # Compute rotation matrix\n",
    "    R = Vt @ U.T\n",
    "\n",
    "    # Ensure a proper rotation (det(R) = 1, no reflection)\n",
    "    if torch.det(R) < 0:\n",
    "        Vt[-1, :] *= -1\n",
    "        R = Vt @ U.T\n",
    "\n",
    "    # Rotate input\n",
    "    aligned_input = (input_centered @ R.T.detach()) + centroid_target.detach()\n",
    "\n",
    "    # # Compute RMSD loss\n",
    "    # rmsd_loss = torch.sqrt(((aligned_input - target) ** 2).mean())\n",
    "\n",
    "    # rmsd_loss = torch.sqrt(((aligned_input - target) ** 2).mean())\n",
    "\n",
    "    # return aligned_input, rmsd_loss\n",
    "    return torch.square(aligned_input-target).mean().sqrt()\n",
    "\n",
    "def compute_lddt(ground_truth_atoms, predicted_atoms, cutoff=30.0, thresholds=[1.0, 2.0, 4.0, 8.0]):\n",
    "    \"\"\"\n",
    "    Computes the lDDT score between ground truth and predicted atoms.\n",
    "\n",
    "    Parameters:\n",
    "        ground_truth_atoms (np.array): Nx3 array of ground truth atom coordinates.\n",
    "        predicted_atoms (np.array): Nx3 array of predicted atom coordinates.\n",
    "        cutoff (float): Distance cutoff in Ångstroms to consider neighbors. Default is 30 Å.\n",
    "        thresholds (list): List of thresholds in Ångstroms for the lDDT computation. Default is [0.5, 1.0, 2.0, 4.0].\n",
    "\n",
    "    Returns:\n",
    "        float: The lDDT score.\n",
    "    \"\"\"\n",
    "    # Number of atoms\n",
    "    num_atoms = ground_truth_atoms.shape[0]\n",
    "\n",
    "    # Initialize array to store lDDT fractions for each threshold\n",
    "    fractions = np.zeros(len(thresholds))\n",
    "\n",
    "    for i in range(num_atoms):\n",
    "        # Get the distances from atom i to all other atoms for both ground truth and predicted atoms\n",
    "        gt_distances = np.linalg.norm(ground_truth_atoms[i] - ground_truth_atoms, axis=1)\n",
    "        pred_distances = np.linalg.norm(predicted_atoms[i] - predicted_atoms, axis=1)\n",
    "\n",
    "        # print(gt_distances)\n",
    "        # print(pred_distances)\n",
    "        # exit()\n",
    "        # Apply the cutoff to consider only distances within the cutoff range\n",
    "        mask = (gt_distances > 0) & (gt_distances < cutoff)\n",
    "\n",
    "        # Calculate the absolute difference between ground truth and predicted distances\n",
    "        distance_diff = np.abs(gt_distances[mask] - pred_distances[mask])\n",
    "\n",
    "        # Filter out any NaN values from the distance difference calculation\n",
    "        valid_mask = ~np.isnan(distance_diff)\n",
    "        distance_diff = distance_diff[valid_mask]\n",
    "\n",
    "        # Compute the fractions for each threshold\n",
    "        for j, threshold in enumerate(thresholds):\n",
    "            if len(distance_diff)>0:\n",
    "                fractions[j] += np.mean(distance_diff < threshold)\n",
    "    # print(fractions)\n",
    "    # print(num_atoms)\n",
    "\n",
    "    # Average the fractions over the number of atoms\n",
    "    fractions /= num_atoms\n",
    "\n",
    "    # The final lDDT score is the average of these fractions\n",
    "    lddt_score = np.mean(fractions)\n",
    "\n",
    "    return lddt_score"
   ]
  },
  {
   "cell_type": "markdown",
   "metadata": {},
   "source": [
    "### Training SetUp"
   ]
  },
  {
   "cell_type": "code",
   "execution_count": 97,
   "metadata": {},
   "outputs": [],
   "source": [
    "from tqdm import tqdm\n",
    "\n",
    "epochs=config['epochs']\n",
    "# cos_epoch=config['cos_epoch']\n",
    "cos_epoch=5\n",
    "\n",
    "\n",
    "best_loss=np.inf\n",
    "optimizer = torch.optim.Adam(model.parameters(), weight_decay=0.0, lr=0.0002) #no weight decay following AF\n",
    "\n",
    "batch_size=1\n",
    "\n",
    "#for cycle in range(2):\n",
    "\n",
    "criterion=torch.nn.CrossEntropyLoss(reduction='none')\n",
    "\n",
    "#scaler = GradScaler()\n",
    "\n",
    "schedule=torch.optim.lr_scheduler.CosineAnnealingLR(optimizer, T_max=(epochs-cos_epoch)*len(train_loader)//batch_size)\n"
   ]
  },
  {
   "cell_type": "markdown",
   "metadata": {},
   "source": [
    "### Train"
   ]
  },
  {
   "cell_type": "code",
   "execution_count": 98,
   "metadata": {},
   "outputs": [
    {
     "name": "stderr",
     "output_type": "stream",
     "text": [
      "  0%|          | 0/1288 [00:00<?, ?it/s]"
     ]
    },
    {
     "name": "stderr",
     "output_type": "stream",
     "text": [
      "Epoch 1 Loss: 6.340250492095947:   6%|▋         | 81/1288 [00:20<05:00,  4.02it/s] \n"
     ]
    },
    {
     "ename": "KeyboardInterrupt",
     "evalue": "",
     "output_type": "error",
     "traceback": [
      "\u001b[31m---------------------------------------------------------------------------\u001b[39m",
      "\u001b[31mKeyboardInterrupt\u001b[39m                         Traceback (most recent call last)",
      "\u001b[36mCell\u001b[39m\u001b[36m \u001b[39m\u001b[32mIn[98]\u001b[39m\u001b[32m, line 25\u001b[39m\n\u001b[32m     22\u001b[39m gt_xyz[torch.isnan(gt_xyz)]=\u001b[32m0\u001b[39m\n\u001b[32m     23\u001b[39m \u001b[38;5;66;03m# print('start sequence',sequence.shape)\u001b[39;00m\n\u001b[32m---> \u001b[39m\u001b[32m25\u001b[39m pred_xyz = \u001b[43mmodel\u001b[49m\u001b[43m(\u001b[49m\u001b[43msequence\u001b[49m\u001b[43m)\u001b[49m.squeeze()\n\u001b[32m     27\u001b[39m loss = dRMAE(pred_xyz,pred_xyz,gt_xyz,gt_xyz) + align_svd_mae(pred_xyz, gt_xyz)\n\u001b[32m     29\u001b[39m \u001b[38;5;28;01mif\u001b[39;00m loss!=loss:\n",
      "\u001b[36mFile \u001b[39m\u001b[32mc:\\Users\\solba\\AppData\\Local\\Programs\\Python\\Python313\\Lib\\site-packages\\torch\\nn\\modules\\module.py:1739\u001b[39m, in \u001b[36mModule._wrapped_call_impl\u001b[39m\u001b[34m(self, *args, **kwargs)\u001b[39m\n\u001b[32m   1737\u001b[39m     \u001b[38;5;28;01mreturn\u001b[39;00m \u001b[38;5;28mself\u001b[39m._compiled_call_impl(*args, **kwargs)  \u001b[38;5;66;03m# type: ignore[misc]\u001b[39;00m\n\u001b[32m   1738\u001b[39m \u001b[38;5;28;01melse\u001b[39;00m:\n\u001b[32m-> \u001b[39m\u001b[32m1739\u001b[39m     \u001b[38;5;28;01mreturn\u001b[39;00m \u001b[38;5;28;43mself\u001b[39;49m\u001b[43m.\u001b[49m\u001b[43m_call_impl\u001b[49m\u001b[43m(\u001b[49m\u001b[43m*\u001b[49m\u001b[43margs\u001b[49m\u001b[43m,\u001b[49m\u001b[43m \u001b[49m\u001b[43m*\u001b[49m\u001b[43m*\u001b[49m\u001b[43mkwargs\u001b[49m\u001b[43m)\u001b[49m\n",
      "\u001b[36mFile \u001b[39m\u001b[32mc:\\Users\\solba\\AppData\\Local\\Programs\\Python\\Python313\\Lib\\site-packages\\torch\\nn\\modules\\module.py:1750\u001b[39m, in \u001b[36mModule._call_impl\u001b[39m\u001b[34m(self, *args, **kwargs)\u001b[39m\n\u001b[32m   1745\u001b[39m \u001b[38;5;66;03m# If we don't have any hooks, we want to skip the rest of the logic in\u001b[39;00m\n\u001b[32m   1746\u001b[39m \u001b[38;5;66;03m# this function, and just call forward.\u001b[39;00m\n\u001b[32m   1747\u001b[39m \u001b[38;5;28;01mif\u001b[39;00m \u001b[38;5;129;01mnot\u001b[39;00m (\u001b[38;5;28mself\u001b[39m._backward_hooks \u001b[38;5;129;01mor\u001b[39;00m \u001b[38;5;28mself\u001b[39m._backward_pre_hooks \u001b[38;5;129;01mor\u001b[39;00m \u001b[38;5;28mself\u001b[39m._forward_hooks \u001b[38;5;129;01mor\u001b[39;00m \u001b[38;5;28mself\u001b[39m._forward_pre_hooks\n\u001b[32m   1748\u001b[39m         \u001b[38;5;129;01mor\u001b[39;00m _global_backward_pre_hooks \u001b[38;5;129;01mor\u001b[39;00m _global_backward_hooks\n\u001b[32m   1749\u001b[39m         \u001b[38;5;129;01mor\u001b[39;00m _global_forward_hooks \u001b[38;5;129;01mor\u001b[39;00m _global_forward_pre_hooks):\n\u001b[32m-> \u001b[39m\u001b[32m1750\u001b[39m     \u001b[38;5;28;01mreturn\u001b[39;00m \u001b[43mforward_call\u001b[49m\u001b[43m(\u001b[49m\u001b[43m*\u001b[49m\u001b[43margs\u001b[49m\u001b[43m,\u001b[49m\u001b[43m \u001b[49m\u001b[43m*\u001b[49m\u001b[43m*\u001b[49m\u001b[43mkwargs\u001b[49m\u001b[43m)\u001b[49m\n\u001b[32m   1752\u001b[39m result = \u001b[38;5;28;01mNone\u001b[39;00m\n\u001b[32m   1753\u001b[39m called_always_called_hooks = \u001b[38;5;28mset\u001b[39m()\n",
      "\u001b[36mCell\u001b[39m\u001b[36m \u001b[39m\u001b[32mIn[94]\u001b[39m\u001b[32m, line 208\u001b[39m, in \u001b[36mWuSubSol.forward\u001b[39m\u001b[34m(self, src)\u001b[39m\n\u001b[32m    205\u001b[39m \u001b[38;5;28;01mdef\u001b[39;00m\u001b[38;5;250m \u001b[39m\u001b[34mforward\u001b[39m(\u001b[38;5;28mself\u001b[39m, src):\n\u001b[32m    206\u001b[39m     pairwise_feature = \u001b[38;5;28;01mNone\u001b[39;00m\n\u001b[32m--> \u001b[39m\u001b[32m208\u001b[39m     src = \u001b[38;5;28;43mself\u001b[39;49m\u001b[43m.\u001b[49m\u001b[43membedding\u001b[49m\u001b[43m(\u001b[49m\u001b[43msrc\u001b[49m\u001b[43m)\u001b[49m \u001b[38;5;66;03m# L*d_model\u001b[39;00m\n\u001b[32m    209\u001b[39m     \u001b[38;5;66;03m# print('after embedding', src.shape)\u001b[39;00m\n\u001b[32m    212\u001b[39m     \u001b[38;5;28;01mfor\u001b[39;00m i,layer \u001b[38;5;129;01min\u001b[39;00m \u001b[38;5;28menumerate\u001b[39m(\u001b[38;5;28mself\u001b[39m.encoder_layers):\n\u001b[32m    213\u001b[39m         \u001b[38;5;66;03m# print(\"before\",src.shape)\u001b[39;00m\n",
      "\u001b[36mFile \u001b[39m\u001b[32mc:\\Users\\solba\\AppData\\Local\\Programs\\Python\\Python313\\Lib\\site-packages\\torch\\nn\\modules\\module.py:1739\u001b[39m, in \u001b[36mModule._wrapped_call_impl\u001b[39m\u001b[34m(self, *args, **kwargs)\u001b[39m\n\u001b[32m   1737\u001b[39m     \u001b[38;5;28;01mreturn\u001b[39;00m \u001b[38;5;28mself\u001b[39m._compiled_call_impl(*args, **kwargs)  \u001b[38;5;66;03m# type: ignore[misc]\u001b[39;00m\n\u001b[32m   1738\u001b[39m \u001b[38;5;28;01melse\u001b[39;00m:\n\u001b[32m-> \u001b[39m\u001b[32m1739\u001b[39m     \u001b[38;5;28;01mreturn\u001b[39;00m \u001b[38;5;28;43mself\u001b[39;49m\u001b[43m.\u001b[49m\u001b[43m_call_impl\u001b[49m\u001b[43m(\u001b[49m\u001b[43m*\u001b[49m\u001b[43margs\u001b[49m\u001b[43m,\u001b[49m\u001b[43m \u001b[49m\u001b[43m*\u001b[49m\u001b[43m*\u001b[49m\u001b[43mkwargs\u001b[49m\u001b[43m)\u001b[49m\n",
      "\u001b[36mFile \u001b[39m\u001b[32mc:\\Users\\solba\\AppData\\Local\\Programs\\Python\\Python313\\Lib\\site-packages\\torch\\nn\\modules\\module.py:1750\u001b[39m, in \u001b[36mModule._call_impl\u001b[39m\u001b[34m(self, *args, **kwargs)\u001b[39m\n\u001b[32m   1745\u001b[39m \u001b[38;5;66;03m# If we don't have any hooks, we want to skip the rest of the logic in\u001b[39;00m\n\u001b[32m   1746\u001b[39m \u001b[38;5;66;03m# this function, and just call forward.\u001b[39;00m\n\u001b[32m   1747\u001b[39m \u001b[38;5;28;01mif\u001b[39;00m \u001b[38;5;129;01mnot\u001b[39;00m (\u001b[38;5;28mself\u001b[39m._backward_hooks \u001b[38;5;129;01mor\u001b[39;00m \u001b[38;5;28mself\u001b[39m._backward_pre_hooks \u001b[38;5;129;01mor\u001b[39;00m \u001b[38;5;28mself\u001b[39m._forward_hooks \u001b[38;5;129;01mor\u001b[39;00m \u001b[38;5;28mself\u001b[39m._forward_pre_hooks\n\u001b[32m   1748\u001b[39m         \u001b[38;5;129;01mor\u001b[39;00m _global_backward_pre_hooks \u001b[38;5;129;01mor\u001b[39;00m _global_backward_hooks\n\u001b[32m   1749\u001b[39m         \u001b[38;5;129;01mor\u001b[39;00m _global_forward_hooks \u001b[38;5;129;01mor\u001b[39;00m _global_forward_pre_hooks):\n\u001b[32m-> \u001b[39m\u001b[32m1750\u001b[39m     \u001b[38;5;28;01mreturn\u001b[39;00m \u001b[43mforward_call\u001b[49m\u001b[43m(\u001b[49m\u001b[43m*\u001b[49m\u001b[43margs\u001b[49m\u001b[43m,\u001b[49m\u001b[43m \u001b[49m\u001b[43m*\u001b[49m\u001b[43m*\u001b[49m\u001b[43mkwargs\u001b[49m\u001b[43m)\u001b[49m\n\u001b[32m   1752\u001b[39m result = \u001b[38;5;28;01mNone\u001b[39;00m\n\u001b[32m   1753\u001b[39m called_always_called_hooks = \u001b[38;5;28mset\u001b[39m()\n",
      "\u001b[36mCell\u001b[39m\u001b[36m \u001b[39m\u001b[32mIn[94]\u001b[39m\u001b[32m, line 65\u001b[39m, in \u001b[36mEmbedSequence.forward\u001b[39m\u001b[34m(self, sequence)\u001b[39m\n\u001b[32m     63\u001b[39m seq_len = \u001b[38;5;28mlen\u001b[39m(sequence.squeeze())\n\u001b[32m     64\u001b[39m \u001b[38;5;66;03m# print(seq_len)\u001b[39;00m\n\u001b[32m---> \u001b[39m\u001b[32m65\u001b[39m pos_encoding = \u001b[43mpos_encoder\u001b[49m\u001b[43m(\u001b[49m\u001b[43mseq_len\u001b[49m\u001b[43m,\u001b[49m\u001b[43m \u001b[49m\u001b[38;5;28;43mself\u001b[39;49m\u001b[43m.\u001b[49m\u001b[43md_model\u001b[49m\u001b[43m)\u001b[49m\n\u001b[32m     66\u001b[39m sequence = sequence.long()\n\u001b[32m     67\u001b[39m \u001b[38;5;28;01mreturn\u001b[39;00m \u001b[38;5;28mself\u001b[39m.embedding(sequence) + pos_encoding\n",
      "\u001b[36mCell\u001b[39m\u001b[36m \u001b[39m\u001b[32mIn[94]\u001b[39m\u001b[32m, line 12\u001b[39m, in \u001b[36mpos_encoder\u001b[39m\u001b[34m(seq_len, d_model)\u001b[39m\n\u001b[32m     10\u001b[39m \u001b[38;5;28;01mfor\u001b[39;00m i \u001b[38;5;129;01min\u001b[39;00m \u001b[38;5;28mrange\u001b[39m(d_model):\n\u001b[32m     11\u001b[39m     \u001b[38;5;28;01mif\u001b[39;00m i % \u001b[32m2\u001b[39m == \u001b[32m0\u001b[39m:\n\u001b[32m---> \u001b[39m\u001b[32m12\u001b[39m         result[pos][i] = np.sin(pos / (\u001b[32m10000\u001b[39m ** (i / d_model)))\n\u001b[32m     13\u001b[39m     \u001b[38;5;28;01melse\u001b[39;00m:\n\u001b[32m     14\u001b[39m         result[pos][i] = np.cos(pos / (\u001b[32m10000\u001b[39m ** ((i - \u001b[32m1\u001b[39m) / d_model)))\n",
      "\u001b[31mKeyboardInterrupt\u001b[39m: "
     ]
    }
   ],
   "source": [
    "version_name = 'ribonanza2_5models'\n",
    "\n",
    "best_val_loss=99999999999\n",
    "loss_df = pd.DataFrame(columns=['epoch', 'train_loss', 'val_loss'])\n",
    "\n",
    "# print(type(train_loader))\n",
    "\n",
    "epochs = 10\n",
    "\n",
    "for epoch in range(epochs):\n",
    "    model.train()\n",
    "    tbar=tqdm(train_loader)\n",
    "    total_loss=0\n",
    "    train_loss=0\n",
    "\n",
    "    for idx, batch in enumerate(tbar):\n",
    "        #try:\n",
    "        sequence=batch['sequence']#.cuda()\n",
    "        gt_xyz=batch['xyz'].squeeze()#.cuda()\n",
    "\n",
    "        mask=~torch.isnan(gt_xyz)\n",
    "        gt_xyz[torch.isnan(gt_xyz)]=0\n",
    "        # print('start sequence',sequence.shape)\n",
    "\n",
    "        pred_xyz = model(sequence).squeeze()\n",
    "\n",
    "        loss = dRMAE(pred_xyz,pred_xyz,gt_xyz,gt_xyz) + align_svd_mae(pred_xyz, gt_xyz)\n",
    "\n",
    "        if loss!=loss:\n",
    "            stop\n",
    "\n",
    "        try:\n",
    "          (loss/batch_size).backward()\n",
    "        except:\n",
    "          print(gt_xyz.shape)\n",
    "\n",
    "        if (idx+1)%batch_size==0 or idx+1 == len(tbar):\n",
    "\n",
    "            torch.nn.utils.clip_grad_norm_(model.parameters(), 1)\n",
    "            optimizer.step()\n",
    "            optimizer.zero_grad()\n",
    "            # scaler.scale(loss/batch_size).backward()\n",
    "            # scaler.unscale_(optimizer)\n",
    "            # torch.nn.utils.clip_grad_norm_(model.parameters(), 1)\n",
    "            # scaler.step(optimizer)\n",
    "            # scaler.update()\n",
    "\n",
    "            if (epoch+1)>cos_epoch:\n",
    "                schedule.step()\n",
    "        \n",
    "        total_loss += loss\n",
    "        train_loss = total_loss/(idx+1)\n",
    "\n",
    "        tbar.set_description(f\"Epoch {epoch + 1} Loss: {total_loss/(idx+1)}\")\n",
    "\n",
    "    ### Validation\n",
    "    tbar=tqdm(val_loader)\n",
    "      \n",
    "    model.eval()\n",
    "    val_preds=[]\n",
    "    val_loss=0\n",
    "\n",
    "    for idx, batch in enumerate(tbar):\n",
    "        sequence=batch['sequence']#.cuda()\n",
    "        gt_xyz=batch['xyz'].squeeze()#.cuda().squeeze()\n",
    "\n",
    "        with torch.no_grad():\n",
    "            pred_xyz=model(sequence).squeeze()\n",
    "            loss = dRMAE(pred_xyz,pred_xyz,gt_xyz,gt_xyz) + align_svd_mae(pred_xyz, gt_xyz)\n",
    "\n",
    "        val_loss+=loss\n",
    "        val_preds.append([gt_xyz.cpu().numpy(),pred_xyz.cpu().numpy()])\n",
    "\n",
    "    val_loss=val_loss/len(tbar)\n",
    "    print(f\"val loss: {val_loss}\")\n",
    "\n",
    "    save_df = pd.DataFrame({'epoch': [epoch], 'train_loss': [train_loss], 'val_loss': [val_loss]})\n",
    "    loss_df = pd.concat([loss_df, save_df], ignore_index=True)\n",
    "\n",
    "    ## Check Best Loss .pt and Save\n",
    "    if val_loss<best_val_loss:\n",
    "        best_val_loss=val_loss\n",
    "        best_preds=val_preds\n",
    "        torch.save(model.state_dict(),f'/Save_Data/{version_name}_{epochs}_best.pt')\n",
    "\n",
    "    # 1.053595052265986 train loss after epoch 0\n",
    "torch.save(model.state_dict(),f'/Save_Data/{version_name}_{epochs}_last.pt')\n",
    "\n",
    "# Save Loss,\n",
    "\n",
    "loss_df.to_csv(f'/Save_Data/{version_name}_{epochs}_loss.csv', index=False)"
   ]
  }
 ],
 "metadata": {
  "kernelspec": {
   "display_name": "Python 3",
   "language": "python",
   "name": "python3"
  },
  "language_info": {
   "codemirror_mode": {
    "name": "ipython",
    "version": 3
   },
   "file_extension": ".py",
   "mimetype": "text/x-python",
   "name": "python",
   "nbconvert_exporter": "python",
   "pygments_lexer": "ipython3",
   "version": "3.13.2"
  }
 },
 "nbformat": 4,
 "nbformat_minor": 2
}
